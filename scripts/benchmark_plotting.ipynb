{
 "cells": [
  {
   "cell_type": "code",
   "execution_count": 4,
   "metadata": {},
   "outputs": [],
   "source": [
    "import pandas as pd\n",
    "import seaborn as sns\n",
    "import matplotlib.pyplot as plt\n",
    "from plotnine import *\n",
    "def find_core_len(df: pd.DataFrame):\n",
    "    \"\"\"Takes a df or pandsas groupby and find if the core length are equal\"\"\"\n",
    "\n",
    "    if df[df[\"parameter\"] == \"core_min\"].value.iloc[0]:\n",
    "        min_len = float(df[df[\"parameter\"] == \"core_min\"].value.iloc[0])\n",
    "        max_len = float(df[df[\"parameter\"] == \"core_max\"].value.iloc[0])\n",
    "        return \"fixed\" if min_len - max_len == 0 else \"variable\"\n",
    "    else:\n",
    "        return \"meme\"\n"
   ]
  },
  {
   "cell_type": "code",
   "execution_count": 32,
   "metadata": {},
   "outputs": [
    {
     "data": {
      "text/html": [
       "<div>\n",
       "<style scoped>\n",
       "    .dataframe tbody tr th:only-of-type {\n",
       "        vertical-align: middle;\n",
       "    }\n",
       "\n",
       "    .dataframe tbody tr th {\n",
       "        vertical-align: top;\n",
       "    }\n",
       "\n",
       "    .dataframe thead th {\n",
       "        text-align: right;\n",
       "    }\n",
       "</style>\n",
       "<table border=\"1\" class=\"dataframe\">\n",
       "  <thead>\n",
       "    <tr style=\"text-align: right;\">\n",
       "      <th></th>\n",
       "      <th>config_id</th>\n",
       "      <th>core_len</th>\n",
       "      <th>imodulon</th>\n",
       "      <th>algorithm</th>\n",
       "      <th>pssm_pssm</th>\n",
       "    </tr>\n",
       "  </thead>\n",
       "  <tbody>\n",
       "    <tr>\n",
       "      <th>0</th>\n",
       "      <td>output_1655479480.6906908</td>\n",
       "      <td>variable</td>\n",
       "      <td>MalT</td>\n",
       "      <td>output_1655479480.6906908</td>\n",
       "      <td>0.993011</td>\n",
       "    </tr>\n",
       "    <tr>\n",
       "      <th>1</th>\n",
       "      <td>output_1655479480.6906908</td>\n",
       "      <td>variable</td>\n",
       "      <td>GcvA</td>\n",
       "      <td>output_1655479480.6906908</td>\n",
       "      <td>1.000000</td>\n",
       "    </tr>\n",
       "    <tr>\n",
       "      <th>2</th>\n",
       "      <td>output_1655479480.6906908</td>\n",
       "      <td>variable</td>\n",
       "      <td>TyrR</td>\n",
       "      <td>output_1655479480.6906908</td>\n",
       "      <td>0.999640</td>\n",
       "    </tr>\n",
       "    <tr>\n",
       "      <th>3</th>\n",
       "      <td>output_1655479480.6906908</td>\n",
       "      <td>variable</td>\n",
       "      <td>CysB</td>\n",
       "      <td>output_1655479480.6906908</td>\n",
       "      <td>0.997905</td>\n",
       "    </tr>\n",
       "    <tr>\n",
       "      <th>4</th>\n",
       "      <td>output_1655479480.6906908</td>\n",
       "      <td>variable</td>\n",
       "      <td>NarL</td>\n",
       "      <td>output_1655479480.6906908</td>\n",
       "      <td>0.999966</td>\n",
       "    </tr>\n",
       "    <tr>\n",
       "      <th>...</th>\n",
       "      <td>...</td>\n",
       "      <td>...</td>\n",
       "      <td>...</td>\n",
       "      <td>...</td>\n",
       "      <td>...</td>\n",
       "    </tr>\n",
       "    <tr>\n",
       "      <th>875</th>\n",
       "      <td>meme_results</td>\n",
       "      <td>meme</td>\n",
       "      <td>MalT</td>\n",
       "      <td>meme_results</td>\n",
       "      <td>0.999901</td>\n",
       "    </tr>\n",
       "    <tr>\n",
       "      <th>876</th>\n",
       "      <td>meme_results</td>\n",
       "      <td>meme</td>\n",
       "      <td>GcvA</td>\n",
       "      <td>meme_results</td>\n",
       "      <td>1.000000</td>\n",
       "    </tr>\n",
       "    <tr>\n",
       "      <th>877</th>\n",
       "      <td>meme_results</td>\n",
       "      <td>meme</td>\n",
       "      <td>TyrR</td>\n",
       "      <td>meme_results</td>\n",
       "      <td>1.000000</td>\n",
       "    </tr>\n",
       "    <tr>\n",
       "      <th>878</th>\n",
       "      <td>meme_results</td>\n",
       "      <td>meme</td>\n",
       "      <td>CysB</td>\n",
       "      <td>meme_results</td>\n",
       "      <td>1.000000</td>\n",
       "    </tr>\n",
       "    <tr>\n",
       "      <th>879</th>\n",
       "      <td>meme_results</td>\n",
       "      <td>meme</td>\n",
       "      <td>NarL</td>\n",
       "      <td>meme_results</td>\n",
       "      <td>1.000000</td>\n",
       "    </tr>\n",
       "  </tbody>\n",
       "</table>\n",
       "<p>880 rows × 5 columns</p>\n",
       "</div>"
      ],
      "text/plain": [
       "                     config_id  core_len imodulon                  algorithm  \\\n",
       "0    output_1655479480.6906908  variable     MalT  output_1655479480.6906908   \n",
       "1    output_1655479480.6906908  variable     GcvA  output_1655479480.6906908   \n",
       "2    output_1655479480.6906908  variable     TyrR  output_1655479480.6906908   \n",
       "3    output_1655479480.6906908  variable     CysB  output_1655479480.6906908   \n",
       "4    output_1655479480.6906908  variable     NarL  output_1655479480.6906908   \n",
       "..                         ...       ...      ...                        ...   \n",
       "875               meme_results      meme     MalT               meme_results   \n",
       "876               meme_results      meme     GcvA               meme_results   \n",
       "877               meme_results      meme     TyrR               meme_results   \n",
       "878               meme_results      meme     CysB               meme_results   \n",
       "879               meme_results      meme     NarL               meme_results   \n",
       "\n",
       "     pssm_pssm  \n",
       "0     0.993011  \n",
       "1     1.000000  \n",
       "2     0.999640  \n",
       "3     0.997905  \n",
       "4     0.999966  \n",
       "..         ...  \n",
       "875   0.999901  \n",
       "876   1.000000  \n",
       "877   1.000000  \n",
       "878   1.000000  \n",
       "879   1.000000  \n",
       "\n",
       "[880 rows x 5 columns]"
      ]
     },
     "execution_count": 32,
     "metadata": {},
     "output_type": "execute_result"
    }
   ],
   "source": [
    "config_file = \"../data/process/benchmark_results/benchmark_config.csv\"\n",
    "\n",
    "config_dat = pd.read_csv(config_file, index_col=0)\n",
    "# fill with nonsense for meme\n",
    "config_dat = pd.concat([config_dat, pd.DataFrame({\"config_id\": [\"meme_results\",\"meme_results\"], \"parameter\": ['core_min', 'core_max'],\"value\" : [None, None]})])\n",
    "dat = pd.read_csv(\"../data/process/benchmark_results/benchmark_results.csv\")\n",
    "\n",
    "is_fixed_core = (config_dat.groupby(\"config_id\").apply(\n",
    "    find_core_len\n",
    "))\n",
    "is_fixed_core.name = \"core_len\"\n",
    "config_dat = config_dat.join(is_fixed_core, on='config_id')\n",
    "\n",
    "dat_algtype = (config_dat\n",
    "    .filter(['config_id', 'core_len'])\n",
    "    .merge(dat, left_on='config_id', right_on='algorithm', how=\"left\")\n",
    ")"
   ]
  },
  {
   "cell_type": "code",
   "execution_count": 67,
   "metadata": {},
   "outputs": [
    {
     "name": "stderr",
     "output_type": "stream",
     "text": [
      "/Users/s143838/projects/macarom/.venv_macarom/lib/python3.8/site-packages/plotnine/ggplot.py:719: PlotnineWarning: Saving 6.4 x 4.8 in image.\n",
      "/Users/s143838/projects/macarom/.venv_macarom/lib/python3.8/site-packages/plotnine/ggplot.py:722: PlotnineWarning: Filename: ../figs/benchmark/boxplot.png\n"
     ]
    }
   ],
   "source": [
    "p = (ggplot(dat_algtype, aes(x='core_len', y=\"pssm_pssm\"))+\n",
    "    geom_jitter(aes(color = \"imodulon\"))+\n",
    "    geom_boxplot( outlier_size=-1)\n",
    ")\n",
    "p.save(\"../figs/benchmark/boxplot.png\")"
   ]
  },
  {
   "cell_type": "markdown",
   "metadata": {},
   "source": [
    "## Find the best performing parameter configuration for each motif"
   ]
  },
  {
   "cell_type": "code",
   "execution_count": 53,
   "metadata": {},
   "outputs": [
    {
     "data": {
      "text/plain": [
       "imodulon     \n",
       "CysB      118    output_1655481696.7676134\n",
       "GcvA      116    output_1655481696.7676134\n",
       "MalT      80     output_1655480830.3259234\n",
       "NarL      119    output_1655481696.7676134\n",
       "TyrR      92      output_1655481563.220014\n",
       "Name: algorithm, dtype: object"
      ]
     },
     "execution_count": 53,
     "metadata": {},
     "output_type": "execute_result"
    }
   ],
   "source": [
    "dat.groupby(\"imodulon\").apply(lambda x: x[x[\"pssm_pssm\"] == x[\"pssm_pssm\"].min()]['algorithm'])"
   ]
  },
  {
   "cell_type": "markdown",
   "metadata": {},
   "source": [
    "## Plot pssm_pssm score vs beta"
   ]
  },
  {
   "cell_type": "code",
   "execution_count": 65,
   "metadata": {},
   "outputs": [
    {
     "data": {
      "text/plain": [
       "Text(0.5, 0, 'Beta')"
      ]
     },
     "execution_count": 65,
     "metadata": {},
     "output_type": "execute_result"
    },
    {
     "data": {
      "image/png": "[encoded data removed]",
      "text/plain": [
       "<Figure size 640x480 with 1 Axes>"
      ]
     },
     "metadata": {},
     "output_type": "display_data"
    }
   ],
   "source": [
    "dat\n",
    "config_dat\n",
    "plot_dat = pd.merge(dat, config_dat.query(\"parameter == 'beta'\"), left_on='algorithm', right_on='config_id')\n",
    "plot_dat[\"value\"] = plot_dat[\"value\"].astype(float)\n",
    "sns.scatterplot(data=plot_dat, x='value', y = \"pssm_pssm\", hue=\"core_len\")\n",
    "plt.xlabel('Beta')"
   ]
  },
  {
   "cell_type": "code",
   "execution_count": 61,
   "metadata": {},
   "outputs": [
    {
     "data": {
      "text/plain": [
       "imodulon      object\n",
       "algorithm     object\n",
       "pssm_pssm    float64\n",
       "config_id     object\n",
       "parameter     object\n",
       "value         object\n",
       "core_len      object\n",
       "dtype: object"
      ]
     },
     "execution_count": 61,
     "metadata": {},
     "output_type": "execute_result"
    }
   ],
   "source": []
  },
  {
   "cell_type": "code",
   "execution_count": null,
   "metadata": {},
   "outputs": [],
   "source": []
  }
 ],
 "metadata": {
  "kernelspec": {
   "display_name": "Python 3.8.5 ('.venv_macarom': venv)",
   "language": "python",
   "name": "python3"
  },
  "language_info": {
   "codemirror_mode": {
    "name": "ipython",
    "version": 3
   },
   "file_extension": ".py",
   "mimetype": "text/x-python",
   "name": "python",
   "nbconvert_exporter": "python",
   "pygments_lexer": "ipython3",
   "version": "3.8.5"
  },
  "orig_nbformat": 4,
  "vscode": {
   "interpreter": {
    "hash": "ecf79cdd91dd765a3d072d57b0d9dccd09843c592c335cbde6d12d3f70344328"
   }
  }
 },
 "nbformat": 4,
 "nbformat_minor": 2
}
